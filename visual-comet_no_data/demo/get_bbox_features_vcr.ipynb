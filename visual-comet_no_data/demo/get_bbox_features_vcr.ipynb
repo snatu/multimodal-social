{
 "cells": [
  {
   "cell_type": "code",
   "execution_count": 1,
   "id": "4a03d367",
   "metadata": {},
   "outputs": [],
   "source": [
    "import detectron2\n",
    "from detectron2.utils.logger import setup_logger\n",
    "setup_logger()\n",
    "\n",
    "# import some common libraries\n",
    "import numpy as np\n",
    "import cv2\n",
    "from matplotlib import pyplot as plt\n",
    "import random\n",
    "import json\n",
    "import pickle\n",
    "\n",
    "import time\n",
    "import os\n",
    "from tqdm import tqdm\n",
    "\n",
    "# import some common detectron2 utilities\n",
    "import torch\n",
    "\n",
    "from detectron2.modeling.postprocessing import detector_postprocess\n",
    "#from detectron2.modeling.roi_heads.fast_rcnn import FastRCNNOutputLayers, FastRCNNOutputs, fast_rcnn_inference_single_image\n",
    "from detectron2.structures.boxes import Boxes\n",
    "from detectron2.structures.instances import Instances\n",
    "\n",
    "from detectron2 import model_zoo\n",
    "from detectron2.engine import DefaultPredictor\n",
    "from detectron2.config import get_cfg\n",
    "from detectron2.modeling import build_model\n",
    "from detectron2.utils.visualizer import Visualizer\n",
    "from detectron2.data import MetadataCatalog"
   ]
  },
  {
   "cell_type": "code",
   "execution_count": 2,
   "id": "be641496",
   "metadata": {},
   "outputs": [
    {
     "data": {
      "text/plain": [
       "'0.6'"
      ]
     },
     "execution_count": 2,
     "metadata": {},
     "output_type": "execute_result"
    }
   ],
   "source": [
    "detectron2.__version__"
   ]
  },
  {
   "cell_type": "code",
   "execution_count": 3,
   "id": "1b98ad75",
   "metadata": {},
   "outputs": [],
   "source": [
    "cfg = get_cfg()\n",
    "# add project-specific config (e.g., TensorMask) here if you're not running a model in detectron2's core library\n",
    "cfg.merge_from_file(model_zoo.get_config_file(\"COCO-InstanceSegmentation/mask_rcnn_R_101_C4_3x.yaml\"))\n",
    "cfg.MODEL.ROI_HEADS.SCORE_THRESH_TEST = 0.5  # set threshold for this model\n",
    "# Find a model from detectron2's model zoo. You can use the https://dl.fbaipublicfiles... url as well\n",
    "cfg.MODEL.WEIGHTS = model_zoo.get_checkpoint_url(\"COCO-InstanceSegmentation/mask_rcnn_R_101_C4_3x.yaml\")\n",
    "predictor = DefaultPredictor(cfg)"
   ]
  },
  {
   "cell_type": "code",
   "execution_count": 4,
   "id": "a873b2ea",
   "metadata": {},
   "outputs": [],
   "source": [
    "coco_key = MetadataCatalog.get(cfg.DATASETS.TRAIN[0]).thing_dataset_id_to_contiguous_id\n",
    "coco_key = {coco_key[k]: k for k in coco_key}"
   ]
  },
  {
   "cell_type": "code",
   "execution_count": 5,
   "id": "1f9acb45",
   "metadata": {},
   "outputs": [
    {
     "name": "stdout",
     "output_type": "stream",
     "text": [
      "1\n"
     ]
    }
   ],
   "source": [
    "IMAGE_DIR = \"/home/shounak_rtml/11777/visual-comet/images2/social_iq/\"\n",
    "OUTPUT_DIR = \"/home/shounak_rtml/11777/visual-comet/socialiq_features/\"\n",
    "os.makedirs(OUTPUT_DIR, exist_ok=True)\n",
    "movie_dirs = sorted(os.listdir(IMAGE_DIR))\n",
    "print(len(movie_dirs))"
   ]
  },
  {
   "cell_type": "code",
   "execution_count": 6,
   "id": "7c05afe2",
   "metadata": {},
   "outputs": [],
   "source": [
    "def doit(raw_image, raw_boxes):\n",
    "    # Process Boxes\n",
    "    raw_boxes = Boxes(torch.from_numpy(raw_boxes).cuda())\n",
    "    \n",
    "    with torch.no_grad():\n",
    "        raw_height, raw_width = raw_image.shape[:2]\n",
    "        \n",
    "        # Preprocessing\n",
    "        image = predictor.aug.get_transform(raw_image).apply_image(raw_image) # use aug attribute to get transform\n",
    "        \n",
    "        # Scale the box\n",
    "        new_height, new_width = image.shape[:2]\n",
    "        scale_x = 1. * new_width / raw_width\n",
    "        scale_y = 1. * new_height / raw_height\n",
    "        #print(scale_x, scale_y)\n",
    "        boxes = raw_boxes.clone()\n",
    "        boxes.scale(scale_x=scale_x, scale_y=scale_y)\n",
    "        \n",
    "        # ----\n",
    "        image = torch.as_tensor(image.astype(\"float32\").transpose(2, 0, 1))\n",
    "        inputs = [{\"image\": image, \"height\": raw_height, \"width\": raw_width}]\n",
    "        images = predictor.model.preprocess_image(inputs)\n",
    "        \n",
    "        # Run Backbone Res1-Res4\n",
    "        features = predictor.model.backbone(images.tensor)\n",
    "        \n",
    "        # Run RoI head for each proposal (RoI Pooling + Res5)\n",
    "        proposal_boxes = [boxes]\n",
    "        features = [features[f] for f in predictor.model.roi_heads.in_features]\n",
    "        box_features = predictor.model.roi_heads._shared_roi_transform(\n",
    "            features, proposal_boxes\n",
    "        )\n",
    "        feature_pooled = box_features.mean(dim=[2, 3])  # pooled to 1x1\n",
    "        return feature_pooled  "
   ]
  },
  {
   "cell_type": "code",
   "execution_count": 7,
   "id": "45d3dbcc",
   "metadata": {},
   "outputs": [
    {
     "name": "stderr",
     "output_type": "stream",
     "text": [
      "  0%|                                                     | 0/1 [00:00<?, ?it/s]\n",
      "100%|██████████████████████████████████| 6208/6208 [00:00<00:00, 3881090.96it/s]\u001b[A\n"
     ]
    },
    {
     "name": "stdout",
     "output_type": "stream",
     "text": [
      "-bSM6iswghE_trimmed-out_104.jpg\n",
      "2a01Rg2g2Z8_trimmed-out_047.jpg\n",
      "3esHlM0cBx4_trimmed-out_089.jpg\n",
      "43fC9xuQRCY_trimmed-out_046.jpg\n",
      "47U9SVOiw4o_trimmed-out_133.jpg\n",
      "4Ry2bE-WRqA_trimmed-out_061.jpg\n",
      "64mWOoj68qo_trimmed-out_115.jpg\n",
      "6AzXxhPKh8U_trimmed-out_119.jpg\n",
      "6dCClwMqJK8_trimmed-out_055.jpg\n",
      "7FYHA728nBI_trimmed-out_045.jpg\n",
      "8ACAI_Z7aLM_trimmed-out_131.jpg\n",
      "8Rk4sGEBJlM_trimmed-out_089.jpg\n",
      "8SGQ0VdXvAg_trimmed-out_088.jpg\n",
      "ASqnnZpsX1M_trimmed-out_091.jpg\n",
      "AZCs9VoHeBo_trimmed-out_103.jpg\n",
      "ApExci9PnNM_trimmed-out_132.jpg\n",
      "BH8FUBW4IIE_trimmed-out_091.jpg\n",
      "C08WmKiwcSs_trimmed-out_075.jpg\n",
      "CoMz3JOnZFo_trimmed-out_075.jpg\n",
      "D1FXpqUivtU_trimmed-out_075.jpg\n",
      "D2g3gTRkv0U_trimmed-out_068.jpg\n",
      "DB7de4nC2rc_trimmed-out_060.jpg\n",
      "FWBCTZiijEM_trimmed-out_085.jpg\n",
      "GGEXxniRfWQ_trimmed-out_074.jpg\n",
      "GI8LoYEYKI0_trimmed-out_100.jpg\n",
      "GI8LoYEYKI0_trimmed-out_114.jpg\n",
      "GK4_G33fXFU_trimmed-out_105.jpg\n",
      "IsgFVkMnqJc_trimmed-out_088.jpg\n",
      "IsgFVkMnqJc_trimmed-out_116.jpg\n",
      "KWSDwS4S6Ss_trimmed-out_063.jpg\n",
      "L3uDQ0S1Iis_trimmed-out_128.jpg\n",
      "LcHtLypALog_trimmed-out_075.jpg\n",
      "LmCJIBsQjOY_trimmed-out_117.jpg\n",
      "MHVrwCEWLPI_trimmed-out_085.jpg\n",
      "MM0YOB-cSWA_trimmed-out_105.jpg\n",
      "N188QSyfmeQ_trimmed-out_132.jpg\n",
      "NFKdaj1Qsek_trimmed-out_102.jpg\n",
      "NZtIGzAzJZM_trimmed-out_126.jpg\n",
      "QC_4iR0tyvE_trimmed-out_088.jpg\n",
      "RHRPK2O9R4w_trimmed-out_091.jpg\n",
      "RZPBl5-cu3c_trimmed-out_077.jpg\n",
      "SAgYiERRDPY_trimmed-out_091.jpg\n",
      "TpH0DD3MCUQ_trimmed-out_103.jpg\n",
      "WLBB9CqfMCk_trimmed-out_067.jpg\n",
      "WVnNoiQKhPc_trimmed-out_119.jpg\n",
      "X9BE2oUSOXM_trimmed-out_091.jpg\n",
      "XjAmvLVbE3E_trimmed-out_104.jpg\n",
      "YZR6LEk3doM_trimmed-out_068.jpg\n",
      "ZP8ACbJ677I_trimmed-out_062.jpg\n",
      "ZVR5lhbmGw0_trimmed-out_115.jpg\n",
      "_s42gOg2WSU_trimmed-out_119.jpg\n",
      "e4mvg9r6_cI_trimmed-out_116.jpg\n",
      "fV1o_g6uzuI_trimmed-out_045.jpg\n",
      "fZuk-TaECZo_trimmed-out_105.jpg\n",
      "gAPPzmRb4r0_trimmed-out_132.jpg\n",
      "gDVmHsYgJUA_trimmed-out_075.jpg\n",
      "ggLOXOiq7WE_trimmed-out_089.jpg\n",
      "ipnGPeRIy2k_trimmed-out_133.jpg\n",
      "kGoON1J872w_trimmed-out_075.jpg\n",
      "kmi_liqBsdU_trimmed-out_102.jpg\n",
      "ktdgC1dJkOA_trimmed-out_132.jpg\n",
      "l1jW3OMXUzs_trimmed-out_128.jpg\n",
      "lacVKwbsE7Q_trimmed-out_048.jpg\n",
      "licUm-aEaCY_trimmed-out_103.jpg\n",
      "lickge5rPdc_trimmed-out_119.jpg\n",
      "lkeVfgI0eEk_trimmed-out_090.jpg\n",
      "pFUXcA1fp6g_trimmed-out_059.jpg\n",
      "pK1WAx4jJzE_trimmed-out_091.jpg\n",
      "qRM1D4jE09w_trimmed-out_045.jpg\n",
      "qh8JWHlIgcE_trimmed-out_062.jpg\n",
      "rnbtRiLamsw_trimmed-out_074.jpg\n",
      "s5ak_9z3Cp8_trimmed-out_129.jpg\n",
      "sjzVFt59eds_trimmed-out_119.jpg\n",
      "tmkqp3VpDCE_trimmed-out_046.jpg\n",
      "ujj3zYdBd0k_trimmed-out_062.jpg\n",
      "vlnKSMw5v1o_trimmed-out_077.jpg\n",
      "vqFmKLl2hq4_trimmed-out_075.jpg\n",
      "wZoXjg1x4Yg_trimmed-out_061.jpg\n",
      "xWRNBOXoLf8_trimmed-out_077.jpg\n",
      "xpXCQkb4LUI_trimmed-out_089.jpg\n",
      "yRtPan09Ek0_trimmed-out_075.jpg\n",
      "yRtPan09Ek0_trimmed-out_103.jpg\n",
      "ytEgqN-BdKA_trimmed-out_077.jpg\n",
      "zVrWAxxLuA0_trimmed-out_055.jpg\n",
      "zVrWAxxLuA0_trimmed-out_111.jpg\n",
      "ziwYbVx_-qg_trimmed-out_133.jpg\n"
     ]
    },
    {
     "name": "stderr",
     "output_type": "stream",
     "text": [
      "100%|████████████████████████████████████████████| 1/1 [06:49<00:00, 409.58s/it]\n"
     ]
    }
   ],
   "source": [
    "for movie in tqdm(movie_dirs[-2:]):\n",
    "    img_ids = list(set([id[:id.rfind('.')] for id in os.listdir(os.path.join(IMAGE_DIR,movie))]))\n",
    "    for id in sorted(tqdm(img_ids)):\n",
    "        try:\n",
    "            #print(movie,id)\n",
    "            im = cv2.imread(os.path.join(IMAGE_DIR,movie,id+'.jpg'))\n",
    "            metadata = json.load(open(os.path.join(IMAGE_DIR,movie,id+'.json')))\n",
    "            boxes = np.array(metadata['boxes'])[:,:4]\n",
    "            h = metadata['height']\n",
    "            w = metadata['width']\n",
    "            boxes = np.row_stack((np.array([0,0,w,h]),boxes))\n",
    "            obj_rep = doit(im, boxes).to(\"cpu\").numpy()\n",
    "\n",
    "            features = {'image_features' : obj_rep[0],\n",
    "                        'object_features' : obj_rep[1:]}\n",
    "            output_name = os.path.join(OUTPUT_DIR,id+'.pkl')\n",
    "            pickle.dump(features, open(output_name,'wb'))\n",
    "            \n",
    "        except:\n",
    "            print(str(id)+'.jpg')"
   ]
  },
  {
   "cell_type": "code",
   "execution_count": null,
   "id": "65602cfa",
   "metadata": {},
   "outputs": [],
   "source": []
  }
 ],
 "metadata": {
  "kernelspec": {
   "display_name": "Python 3 (ipykernel)",
   "language": "python",
   "name": "python3"
  },
  "language_info": {
   "codemirror_mode": {
    "name": "ipython",
    "version": 3
   },
   "file_extension": ".py",
   "mimetype": "text/x-python",
   "name": "python",
   "nbconvert_exporter": "python",
   "pygments_lexer": "ipython3",
   "version": "3.8.0"
  }
 },
 "nbformat": 4,
 "nbformat_minor": 5
}
